{
 "cells": [
  {
   "cell_type": "markdown",
   "metadata": {},
   "source": [
    "## Introduction to Jupyter Notebooks\n",
    "\n",
    "### Quest Data Science Meetup #1\n",
    "#### May 23, 2018"
   ]
  },
  {
   "cell_type": "markdown",
   "metadata": {},
   "source": [
    "## What is a notebook?\n",
    "\n",
    "Notebook - code, graphs, figures, images\n"
   ]
  },
  {
   "cell_type": "markdown",
   "metadata": {},
   "source": [
    "## Code cells"
   ]
  },
  {
   "cell_type": "code",
   "execution_count": 23,
   "metadata": {
    "collapsed": false
   },
   "outputs": [
    {
     "name": "stdout",
     "output_type": "stream",
     "text": [
      "Here is some next\n"
     ]
    }
   ],
   "source": [
    "# Comment for my code\n",
    "# Let's print some text\n",
    "\n",
    "print('Here is some next')"
   ]
  },
  {
   "cell_type": "code",
   "execution_count": 24,
   "metadata": {
    "collapsed": false
   },
   "outputs": [
    {
     "name": "stdout",
     "output_type": "stream",
     "text": [
      "[0 1 2 3 4 5 6 7 8 9]\n"
     ]
    }
   ],
   "source": [
    "# Now try some numbers\n",
    "\n",
    "import numpy as np\n",
    "numbers = np.arange(10)\n",
    "print(numbers)"
   ]
  },
  {
   "cell_type": "markdown",
   "metadata": {},
   "source": [
    "### Import some data and display\n",
    "\n",
    "It is easy to import some data and display a table.\n"
   ]
  },
  {
   "cell_type": "code",
   "execution_count": 25,
   "metadata": {
    "collapsed": false
   },
   "outputs": [
    {
     "data": {
      "text/html": [
       "<div>\n",
       "<table border=\"1\" class=\"dataframe\">\n",
       "  <thead>\n",
       "    <tr style=\"text-align: right;\">\n",
       "      <th></th>\n",
       "      <th>time</th>\n",
       "      <th>latitude</th>\n",
       "      <th>longitude</th>\n",
       "      <th>depth</th>\n",
       "      <th>mag</th>\n",
       "      <th>magType</th>\n",
       "      <th>place</th>\n",
       "    </tr>\n",
       "  </thead>\n",
       "  <tbody>\n",
       "    <tr>\n",
       "      <th>0</th>\n",
       "      <td>2017-12-15T16:47:58.230Z</td>\n",
       "      <td>-7.4921</td>\n",
       "      <td>108.1743</td>\n",
       "      <td>90.0</td>\n",
       "      <td>6.5</td>\n",
       "      <td>mww</td>\n",
       "      <td>1km E of Kampungbaru, Indonesia</td>\n",
       "    </tr>\n",
       "    <tr>\n",
       "      <th>1</th>\n",
       "      <td>2017-12-13T18:03:43.920Z</td>\n",
       "      <td>-54.2189</td>\n",
       "      <td>2.1628</td>\n",
       "      <td>17.0</td>\n",
       "      <td>6.5</td>\n",
       "      <td>mww</td>\n",
       "      <td>80km WNW of Bouvet Island, Bouvet Island</td>\n",
       "    </tr>\n",
       "    <tr>\n",
       "      <th>2</th>\n",
       "      <td>2017-12-12T21:41:31.140Z</td>\n",
       "      <td>30.8275</td>\n",
       "      <td>57.2982</td>\n",
       "      <td>8.0</td>\n",
       "      <td>6.0</td>\n",
       "      <td>mww</td>\n",
       "      <td>63km NNE of Kerman, Iran</td>\n",
       "    </tr>\n",
       "    <tr>\n",
       "      <th>3</th>\n",
       "      <td>2017-12-12T08:43:18.320Z</td>\n",
       "      <td>30.7372</td>\n",
       "      <td>57.2795</td>\n",
       "      <td>12.0</td>\n",
       "      <td>6.0</td>\n",
       "      <td>mww</td>\n",
       "      <td>53km NNE of Kerman, Iran</td>\n",
       "    </tr>\n",
       "    <tr>\n",
       "      <th>4</th>\n",
       "      <td>2017-12-09T15:14:24.770Z</td>\n",
       "      <td>10.0928</td>\n",
       "      <td>140.2016</td>\n",
       "      <td>10.0</td>\n",
       "      <td>6.1</td>\n",
       "      <td>mww</td>\n",
       "      <td>50km NW of Fais, Micronesia</td>\n",
       "    </tr>\n",
       "  </tbody>\n",
       "</table>\n",
       "</div>"
      ],
      "text/plain": [
       "                       time  latitude  longitude  depth  mag magType  \\\n",
       "0  2017-12-15T16:47:58.230Z   -7.4921   108.1743   90.0  6.5     mww   \n",
       "1  2017-12-13T18:03:43.920Z  -54.2189     2.1628   17.0  6.5     mww   \n",
       "2  2017-12-12T21:41:31.140Z   30.8275    57.2982    8.0  6.0     mww   \n",
       "3  2017-12-12T08:43:18.320Z   30.7372    57.2795   12.0  6.0     mww   \n",
       "4  2017-12-09T15:14:24.770Z   10.0928   140.2016   10.0  6.1     mww   \n",
       "\n",
       "                                      place  \n",
       "0           1km E of Kampungbaru, Indonesia  \n",
       "1  80km WNW of Bouvet Island, Bouvet Island  \n",
       "2                  63km NNE of Kerman, Iran  \n",
       "3                  53km NNE of Kerman, Iran  \n",
       "4               50km NW of Fais, Micronesia  "
      ]
     },
     "execution_count": 25,
     "metadata": {},
     "output_type": "execute_result"
    }
   ],
   "source": [
    "# Download some earthquake data from github\n",
    "import pandas as pd\n",
    "\n",
    "# Tell python where the data file is and load into a data frame\n",
    "url = 'https://raw.githubusercontent.com/nwhoffman/earthquake_stats/master/eq_1970_M6.csv'\n",
    "quakes = pd.read_csv(url)\n",
    "\n",
    "# Print the first 5 rows of the data frame\n",
    "quakes.head()"
   ]
  },
  {
   "cell_type": "markdown",
   "metadata": {},
   "source": [
    "We can also just print the data frame but its not formatted as nicely."
   ]
  },
  {
   "cell_type": "code",
   "execution_count": 26,
   "metadata": {
    "collapsed": false
   },
   "outputs": [
    {
     "name": "stdout",
     "output_type": "stream",
     "text": [
      "                          time  latitude  longitude   depth  mag magType  \\\n",
      "0     2017-12-15T16:47:58.230Z   -7.4921   108.1743   90.00  6.5     mww   \n",
      "1     2017-12-13T18:03:43.920Z  -54.2189     2.1628   17.00  6.5     mww   \n",
      "2     2017-12-12T21:41:31.140Z   30.8275    57.2982    8.00  6.0     mww   \n",
      "3     2017-12-12T08:43:18.320Z   30.7372    57.2795   12.00  6.0     mww   \n",
      "4     2017-12-09T15:14:24.770Z   10.0928   140.2016   10.00  6.1     mww   \n",
      "5     2017-12-08T09:51:08.050Z   10.0116   140.1871    8.00  6.3     mww   \n",
      "6     2017-12-08T00:22:54.200Z   10.1164   140.2197   12.79  6.4     mww   \n",
      "7     2017-12-03T11:19:05.440Z   -0.4700   -80.3101   17.00  6.1     mww   \n",
      "8     2017-12-01T02:49:58.490Z   -6.1346   147.6564   34.00  6.0     mww   \n",
      "9     2017-12-01T02:32:46.040Z   30.7464    57.3070    9.00  6.1     mww   \n",
      "10    2017-11-30T06:32:50.760Z   -1.0802   -23.4323   10.00  6.5     mww   \n",
      "11    2017-11-27T07:11:11.620Z   -4.5746   153.2269   54.00  6.0     mww   \n",
      "12    2017-11-20T18:51:07.610Z  -14.7243  -175.0485    9.00  6.0     mww   \n",
      "13    2017-11-20T00:09:23.730Z  -21.4848   168.8088   10.00  6.0     mww   \n",
      "14    2017-11-19T22:43:29.250Z  -21.3246   168.6715   10.00  7.0     mww   \n",
      "15    2017-11-19T15:09:02.880Z  -21.5027   168.5984   13.00  6.6     mww   \n",
      "16    2017-11-19T09:25:48.730Z  -21.6377   168.6729   14.00  6.3     mww   \n",
      "17    2017-11-17T22:34:19.450Z   29.8333    94.9838    8.00  6.4     mww   \n",
      "18    2017-11-13T02:28:23.680Z    9.5147   -84.4865   19.36  6.5     mww   \n",
      "19    2017-11-12T18:18:17.180Z   34.9109    45.9592   19.00  7.3     mww   \n",
      "20    2017-11-11T00:36:14.980Z  -11.7424   -14.1142   10.00  6.1     mww   \n",
      "21    2017-11-09T07:42:11.020Z   32.5208   141.4380   12.00  6.0     mww   \n",
      "22    2017-11-07T21:26:38.480Z   -4.2433   143.4846  110.57  6.5     mww   \n",
      "23    2017-11-04T09:00:19.420Z  -15.3197  -173.1682   10.00  6.8     mww   \n",
      "24    2017-11-01T02:23:57.670Z  -21.6484   168.8585   22.00  6.6     mww   \n",
      "25    2017-11-01T00:09:30.120Z  -21.7278   168.9342   11.00  6.1     mww   \n",
      "26    2017-10-31T11:50:48.370Z   -3.7449   127.7517    6.00  6.1     mww   \n",
      "27    2017-10-31T00:42:08.720Z  -21.6971   169.1485   24.00  6.7     mww   \n",
      "28    2017-10-24T10:47:47.860Z   -7.2168   123.0735  553.81  6.7     mww   \n",
      "29    2017-10-18T12:00:59.080Z  -20.5914  -173.8022   10.00  6.1     mww   \n",
      "...                        ...       ...        ...     ...  ...     ...   \n",
      "6684  1970-03-09T16:01:11.000Z  -19.0910   168.6720   30.00  6.6      mw   \n",
      "6685  1970-03-04T14:27:49.000Z    7.2730   126.8910   35.00  6.1      mw   \n",
      "6686  1970-03-04T03:30:35.000Z   12.2130   143.8470   20.00  6.2      mw   \n",
      "6687  1970-02-28T10:52:33.000Z   52.4870  -174.9150  164.10  7.1      mw   \n",
      "6688  1970-02-27T07:07:59.000Z   50.1440  -179.7880   10.00  6.1      mw   \n",
      "6689  1970-02-26T23:29:05.000Z   43.4730   147.5470   26.20  6.1      mw   \n",
      "6690  1970-02-25T10:20:59.000Z   24.1260   122.2530   30.00  6.1      mw   \n",
      "6691  1970-02-18T15:23:33.000Z  -20.7240  -176.6680  251.60  6.0      mw   \n",
      "6692  1970-02-13T15:43:28.000Z   -5.9230   112.9970  622.80  6.5      mw   \n",
      "6693  1970-02-07T12:07:35.000Z   47.2840   153.7820   15.00  6.0      mw   \n",
      "6694  1970-02-07T10:01:05.000Z   47.1840   154.0920   15.00  6.0      mw   \n",
      "6695  1970-02-06T22:10:41.000Z   23.0830   100.7710   10.00  6.1      mw   \n",
      "6696  1970-02-06T02:17:34.000Z   12.6870   121.9240   25.00  6.0      mw   \n",
      "6697  1970-02-06T00:11:48.000Z   54.5130   163.1890   20.00  6.0      mw   \n",
      "6698  1970-02-05T22:06:01.000Z   12.5840   121.9520   15.00  6.7      mw   \n",
      "6699  1970-02-05T12:46:38.000Z   46.9430   154.2000   22.20  6.0      mw   \n",
      "6700  1970-02-04T05:08:48.000Z   15.5180   -99.5760   10.00  6.4      mw   \n",
      "6701  1970-02-02T17:49:52.000Z   43.3210   147.4890   29.70  6.0      mw   \n",
      "6702  1970-01-28T23:06:02.000Z  -20.6720  -178.7660  605.90  6.1      mw   \n",
      "6703  1970-01-26T10:01:20.000Z  -12.5920   166.4880   35.00  6.5      mw   \n",
      "6704  1970-01-21T17:51:37.000Z    6.8430  -104.1890   10.00  6.7      mw   \n",
      "6705  1970-01-20T17:33:05.000Z   42.5230   143.0500   35.10  6.4      mw   \n",
      "6706  1970-01-20T07:19:51.000Z  -25.9460  -177.2190   70.00  6.8      mw   \n",
      "6707  1970-01-14T02:22:36.000Z  -10.1690   123.2330   25.00  6.0      mw   \n",
      "6708  1970-01-11T05:02:05.000Z    7.3260   126.8570   45.00  6.0      mw   \n",
      "6709  1970-01-10T12:07:07.000Z    6.7850   126.6820   40.00  7.2      mw   \n",
      "6710  1970-01-08T17:12:41.000Z  -34.8500   178.7820  199.40  6.8      mw   \n",
      "6711  1970-01-07T07:56:14.000Z   15.7850   -59.8080   36.70  6.0      mw   \n",
      "6712  1970-01-06T05:35:54.000Z   -9.5830   151.4930   15.00  6.3      mw   \n",
      "6713  1970-01-04T17:00:41.000Z   24.1850   102.5430   11.30  7.1      mw   \n",
      "\n",
      "                                                  place  \n",
      "0                       1km E of Kampungbaru, Indonesia  \n",
      "1              80km WNW of Bouvet Island, Bouvet Island  \n",
      "2                              63km NNE of Kerman, Iran  \n",
      "3                              53km NNE of Kerman, Iran  \n",
      "4                           50km NW of Fais, Micronesia  \n",
      "5                           45km NW of Fais, Micronesia  \n",
      "6                           50km NW of Fais, Micronesia  \n",
      "7                 18km NE of Bahia de Caraquez, Ecuador  \n",
      "8             56km NNW of Finschhafen, Papua New Guinea  \n",
      "9                              55km NNE of Kerman, Iran  \n",
      "10                           Central Mid-Atlantic Ridge  \n",
      "11                  24km ESE of Taron, Papua New Guinea  \n",
      "12                            194km NW of Hihifo, Tonga  \n",
      "13                      96km E of Tadine, New Caledonia  \n",
      "14                    85km ENE of Tadine, New Caledonia  \n",
      "15                      74km E of Tadine, New Caledonia  \n",
      "16                      82km E of Tadine, New Caledonia  \n",
      "17                          64km ENE of Nyingchi, China  \n",
      "18                        18km W of Parrita, Costa Rica  \n",
      "19                             29km S of Halabjah, Iraq  \n",
      "20                              Ascension Island region  \n",
      "21                     165km ESE of Hachijo-jima, Japan  \n",
      "22                67km WSW of Angoram, Papua New Guinea  \n",
      "23                             93km NE of Hihifo, Tonga  \n",
      "24                     101km E of Tadine, New Caledonia  \n",
      "25                     110km E of Tadine, New Caledonia  \n",
      "26                          41km WSW of Hila, Indonesia  \n",
      "27                     131km E of Tadine, New Caledonia  \n",
      "28                        144km NNE of Palue, Indonesia  \n",
      "29                           104km SSE of Pangai, Tonga  \n",
      "...                                                 ...  \n",
      "6684                                            Vanuatu  \n",
      "6685                              Mindanao, Philippines  \n",
      "6686                                        Guam region  \n",
      "6687        Andreanof Islands, Aleutian Islands, Alaska  \n",
      "6688        Andreanof Islands, Aleutian Islands, Alaska  \n",
      "6689                                      Kuril Islands  \n",
      "6690                                      Taiwan region  \n",
      "6691                                        Fiji region  \n",
      "6692                                           Java Sea  \n",
      "6693                                      Kuril Islands  \n",
      "6694                                      Kuril Islands  \n",
      "6695                                      Yunnan, China  \n",
      "6696                               Mindoro, Philippines  \n",
      "6697  off the east coast of the Kamchatka Peninsula,...  \n",
      "6698                               Mindoro, Philippines  \n",
      "6699                          east of the Kuril Islands  \n",
      "6700                  off the coast of Guerrero, Mexico  \n",
      "6701                                      Kuril Islands  \n",
      "6702                                        Fiji region  \n",
      "6703                                 Santa Cruz Islands  \n",
      "6704                   Galapagos Triple Junction region  \n",
      "6705                             Hokkaido, Japan region  \n",
      "6706                          south of the Fiji Islands  \n",
      "6707                            Timor region, Indonesia  \n",
      "6708                              Mindanao, Philippines  \n",
      "6709                              Mindanao, Philippines  \n",
      "6710                      south of the Kermadec Islands  \n",
      "6711                east of Guadeloupe, Leeward Islands  \n",
      "6712                     D'Entrecasteaux Islands region  \n",
      "6713                                      Yunnan, China  \n",
      "\n",
      "[6714 rows x 7 columns]\n"
     ]
    }
   ],
   "source": [
    "print(quakes)"
   ]
  },
  {
   "cell_type": "markdown",
   "metadata": {},
   "source": [
    "### Displaying Images\n",
    "\n",
    "Images can be displayed in Markdown cells using...markdown! But, markdown is not very good for options to display image size, location, etc.\n",
    "\n",
    "![Cat](kitten.jpg)\n"
   ]
  },
  {
   "cell_type": "markdown",
   "metadata": {},
   "source": [
    "HTML works a little better:\n",
    "\n",
    "<img src=\"kitten.jpg\" alt=\"kitten\" style=\"width: 200px;\"/>"
   ]
  },
  {
   "cell_type": "markdown",
   "metadata": {},
   "source": [
    "### Displaying a movie\n",
    "\n",
    "We can also display a video file using some python modules.\n"
   ]
  },
  {
   "cell_type": "code",
   "execution_count": 27,
   "metadata": {
    "collapsed": false
   },
   "outputs": [
    {
     "data": {
      "text/html": [
       "<video width=\"400\" controls>\n",
       "  <source src=\"output_13May.mp4\" type=\"video/mp4\">\n",
       "</video>"
      ],
      "text/plain": [
       "<IPython.core.display.HTML object>"
      ]
     },
     "metadata": {},
     "output_type": "display_data"
    }
   ],
   "source": [
    "%%HTML\n",
    "<video width=\"400\" controls>\n",
    "  <source src=\"output_13May.mp4\" type=\"video/mp4\">\n",
    "</video>"
   ]
  }
 ],
 "metadata": {
  "kernelspec": {
   "display_name": "Python 3",
   "language": "python",
   "name": "python3"
  },
  "language_info": {
   "codemirror_mode": {
    "name": "ipython",
    "version": 3
   },
   "file_extension": ".py",
   "mimetype": "text/x-python",
   "name": "python",
   "nbconvert_exporter": "python",
   "pygments_lexer": "ipython3",
   "version": "3.6.0"
  }
 },
 "nbformat": 4,
 "nbformat_minor": 2
}
