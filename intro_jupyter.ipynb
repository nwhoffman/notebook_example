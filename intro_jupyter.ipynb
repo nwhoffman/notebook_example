{
 "cells": [
  {
   "cell_type": "markdown",
   "metadata": {},
   "source": [
    "## Introduction to Jupyter Notebooks\n",
    "\n",
    "### Quest Data Science Meetup #1 -  May 23, 2018"
   ]
  },
  {
   "cell_type": "markdown",
   "metadata": {},
   "source": [
    "## What is a notebook?\n",
    "\n",
    "Notebook - code, graphs, figures, images, text, equations! \n",
    "\n",
    "Jupyter uses kernels which support different languages. The kernel used for Python is the IPython kernel (which is why notebooks are saved as *filename.ipynb* files).\n"
   ]
  },
  {
   "cell_type": "markdown",
   "metadata": {},
   "source": [
    "## Code cells"
   ]
  },
  {
   "cell_type": "code",
   "execution_count": 1,
   "metadata": {
    "collapsed": false
   },
   "outputs": [
    {
     "name": "stdout",
     "output_type": "stream",
     "text": [
      "Here is some next\n"
     ]
    }
   ],
   "source": [
    "# Comment for my code\n",
    "# Let's print some text\n",
    "\n",
    "print('Here is some next')"
   ]
  },
  {
   "cell_type": "code",
   "execution_count": 2,
   "metadata": {
    "collapsed": false
   },
   "outputs": [
    {
     "name": "stdout",
     "output_type": "stream",
     "text": [
      "[0 1 2 3 4 5 6 7 8 9]\n"
     ]
    }
   ],
   "source": [
    "# Now try some numbers\n",
    "\n",
    "import numpy as np\n",
    "numbers = np.arange(10)\n",
    "print(numbers)"
   ]
  },
  {
   "cell_type": "markdown",
   "metadata": {},
   "source": [
    "### Import some data and display\n",
    "\n",
    "It is easy to import some data and display the data frame as a table. Pandas does the nice formatting for the table.\n"
   ]
  },
  {
   "cell_type": "code",
   "execution_count": 3,
   "metadata": {
    "collapsed": false
   },
   "outputs": [
    {
     "data": {
      "text/html": [
       "<div>\n",
       "<table border=\"1\" class=\"dataframe\">\n",
       "  <thead>\n",
       "    <tr style=\"text-align: right;\">\n",
       "      <th></th>\n",
       "      <th>time</th>\n",
       "      <th>latitude</th>\n",
       "      <th>longitude</th>\n",
       "      <th>depth</th>\n",
       "      <th>mag</th>\n",
       "      <th>magType</th>\n",
       "      <th>place</th>\n",
       "    </tr>\n",
       "  </thead>\n",
       "  <tbody>\n",
       "    <tr>\n",
       "      <th>0</th>\n",
       "      <td>2017-12-15T16:47:58.230Z</td>\n",
       "      <td>-7.4921</td>\n",
       "      <td>108.1743</td>\n",
       "      <td>90.0</td>\n",
       "      <td>6.5</td>\n",
       "      <td>mww</td>\n",
       "      <td>1km E of Kampungbaru, Indonesia</td>\n",
       "    </tr>\n",
       "    <tr>\n",
       "      <th>1</th>\n",
       "      <td>2017-12-13T18:03:43.920Z</td>\n",
       "      <td>-54.2189</td>\n",
       "      <td>2.1628</td>\n",
       "      <td>17.0</td>\n",
       "      <td>6.5</td>\n",
       "      <td>mww</td>\n",
       "      <td>80km WNW of Bouvet Island, Bouvet Island</td>\n",
       "    </tr>\n",
       "    <tr>\n",
       "      <th>2</th>\n",
       "      <td>2017-12-12T21:41:31.140Z</td>\n",
       "      <td>30.8275</td>\n",
       "      <td>57.2982</td>\n",
       "      <td>8.0</td>\n",
       "      <td>6.0</td>\n",
       "      <td>mww</td>\n",
       "      <td>63km NNE of Kerman, Iran</td>\n",
       "    </tr>\n",
       "    <tr>\n",
       "      <th>3</th>\n",
       "      <td>2017-12-12T08:43:18.320Z</td>\n",
       "      <td>30.7372</td>\n",
       "      <td>57.2795</td>\n",
       "      <td>12.0</td>\n",
       "      <td>6.0</td>\n",
       "      <td>mww</td>\n",
       "      <td>53km NNE of Kerman, Iran</td>\n",
       "    </tr>\n",
       "    <tr>\n",
       "      <th>4</th>\n",
       "      <td>2017-12-09T15:14:24.770Z</td>\n",
       "      <td>10.0928</td>\n",
       "      <td>140.2016</td>\n",
       "      <td>10.0</td>\n",
       "      <td>6.1</td>\n",
       "      <td>mww</td>\n",
       "      <td>50km NW of Fais, Micronesia</td>\n",
       "    </tr>\n",
       "  </tbody>\n",
       "</table>\n",
       "</div>"
      ],
      "text/plain": [
       "                       time  latitude  longitude  depth  mag magType  \\\n",
       "0  2017-12-15T16:47:58.230Z   -7.4921   108.1743   90.0  6.5     mww   \n",
       "1  2017-12-13T18:03:43.920Z  -54.2189     2.1628   17.0  6.5     mww   \n",
       "2  2017-12-12T21:41:31.140Z   30.8275    57.2982    8.0  6.0     mww   \n",
       "3  2017-12-12T08:43:18.320Z   30.7372    57.2795   12.0  6.0     mww   \n",
       "4  2017-12-09T15:14:24.770Z   10.0928   140.2016   10.0  6.1     mww   \n",
       "\n",
       "                                      place  \n",
       "0           1km E of Kampungbaru, Indonesia  \n",
       "1  80km WNW of Bouvet Island, Bouvet Island  \n",
       "2                  63km NNE of Kerman, Iran  \n",
       "3                  53km NNE of Kerman, Iran  \n",
       "4               50km NW of Fais, Micronesia  "
      ]
     },
     "execution_count": 3,
     "metadata": {},
     "output_type": "execute_result"
    }
   ],
   "source": [
    "# Download some earthquake data from github\n",
    "import pandas as pd\n",
    "\n",
    "# Tell python where the data file is and load into a data frame\n",
    "url = 'https://raw.githubusercontent.com/nwhoffman/earthquake_stats/master/eq_1970_M6.csv'\n",
    "quakes = pd.read_csv(url)\n",
    "\n",
    "# Print the first 5 rows of the data frame\n",
    "quakes.head()"
   ]
  },
  {
   "cell_type": "markdown",
   "metadata": {},
   "source": [
    "### Displaying Images\n",
    "\n",
    "Images can be displayed in Markdown cells using...markdown. But, markdown is not very good for options to display image size, location, etc. It is probably easier to just use HTML tags in a Markdown cell:\n",
    "\n",
    "```<img src=\"kitten.jpg\" alt=\"kitten\" style=\"width: 200px;\"/>```"
   ]
  },
  {
   "cell_type": "markdown",
   "metadata": {},
   "source": [
    "<img src=\"kitten.jpg\" alt=\"kitten\" style=\"width: 200px;\"/>"
   ]
  },
  {
   "cell_type": "markdown",
   "metadata": {},
   "source": [
    "### Displaying a movie\n",
    "\n",
    "We can also display a video file using some IPython Magic in a code cell. It only takes a few lines of code to display a mp4 movie file.\n"
   ]
  },
  {
   "cell_type": "code",
   "execution_count": 4,
   "metadata": {
    "collapsed": false
   },
   "outputs": [
    {
     "data": {
      "text/html": [
       "<video width=\"400\" controls>\n",
       "  <source src=\"output_13May.mp4\" type=\"video/mp4\">\n",
       "</video>"
      ],
      "text/plain": [
       "<IPython.core.display.HTML object>"
      ]
     },
     "metadata": {},
     "output_type": "display_data"
    }
   ],
   "source": [
    "%%HTML\n",
    "<video width=\"400\" controls>\n",
    "  <source src=\"output_13May.mp4\" type=\"video/mp4\">\n",
    "</video>"
   ]
  },
  {
   "cell_type": "markdown",
   "metadata": {},
   "source": [
    "### Latex Math\n",
    "\n",
    "This is in a markdown cell. Just put the $ around your latex math code. \n",
    "\n",
    "This code:\n",
    "\n",
    "```\n",
    "$y(x,t) = A\\sin \\left[ {2\\pi \\left( {\\frac{x}{\\lambda } - \\frac{t}{T}} \\right)} \\right]$\n",
    "\n",
    "```\n",
    "comes out like this:\n",
    "\n",
    "$y(x,t) = A\\sin \\left[ {2\\pi \\left( {\\frac{x}{\\lambda } - \\frac{t}{T}} \\right)} \\right]$\n",
    "\n",
    "The equation below uses the latex magic notation in a code cell:"
   ]
  },
  {
   "cell_type": "code",
   "execution_count": 5,
   "metadata": {
    "collapsed": false
   },
   "outputs": [
    {
     "data": {
      "text/latex": [
       "$y(x,t) = A\\sin \\left[ {2\\pi \\left( {\\frac{x}{\\lambda } - \\frac{t}{T}} \\right)} \\right]$"
      ],
      "text/plain": [
       "<IPython.core.display.Latex object>"
      ]
     },
     "metadata": {},
     "output_type": "display_data"
    }
   ],
   "source": [
    "%%latex\n",
    "$y(x,t) = A\\sin \\left[ {2\\pi \\left( {\\frac{x}{\\lambda } - \\frac{t}{T}} \\right)} \\right]$"
   ]
  },
  {
   "cell_type": "markdown",
   "metadata": {},
   "source": [
    "### Plotting\n",
    "\n",
    "Plotting can be done in the notebook by using the IPython Magic command ```%matplotlib inline```."
   ]
  },
  {
   "cell_type": "code",
   "execution_count": 6,
   "metadata": {
    "collapsed": false
   },
   "outputs": [
    {
     "data": {
      "image/png": "[encoded data removed]",
      "text/plain": [
       "<matplotlib.figure.Figure at 0x7f1587244080>"
      ]
     },
     "metadata": {},
     "output_type": "display_data"
    }
   ],
   "source": [
    "# Import matplotlib\n",
    "import matplotlib.pyplot as plt\n",
    "%matplotlib inline\n",
    "\n",
    "# Example from the matplotlib gallery\n",
    "\n",
    "# Data for plotting\n",
    "import numpy as np\n",
    "t = np.arange(0.0, 2.0, 0.01)\n",
    "s = 1 + np.sin(2 * np.pi * t)\n",
    "\n",
    "# Note that using plt.subplots below is equivalent to using\n",
    "# fig = plt.figure() and then ax = fig.add_subplot(111)\n",
    "fig, ax = plt.subplots()\n",
    "ax.plot(t, s)\n",
    "\n",
    "ax.set(xlabel='time (s)', ylabel='voltage (mV)',\n",
    "       title='A sine wave')\n",
    "ax.grid()\n",
    "\n",
    "plt.show()\n"
   ]
  },
  {
   "cell_type": "markdown",
   "metadata": {},
   "source": [
    "### Shell commands\n",
    "\n",
    "We can also look through the local file system using the bang (!) command."
   ]
  },
  {
   "cell_type": "code",
   "execution_count": 7,
   "metadata": {
    "collapsed": false
   },
   "outputs": [
    {
     "name": "stdout",
     "output_type": "stream",
     "text": [
      "/home/nicole/python\n",
      "cat_fall.jpg\t     hawaii_eqmap_test.ipynb  query.csv\n",
      "Default Project.osp  intro_jupyter.ipynb      reading\n",
      "games\t\t     kitten_glasses.jpg       sphere_vol.ipynb\n",
      "geophysics\t     kitten.jpg\t\t      string_test.ipynb\n",
      "gilmore\t\t     nlp\t\t      thumbnail\n",
      "gmt\t\t     ortho\t\t      Untitled1.ipynb\n",
      "gmt_test.ipynb\t     output_13May.mp4\t      Untitled.ipynb\n",
      "hawaii_eqmap.ipynb   psconvert_2518c.bb\n"
     ]
    }
   ],
   "source": [
    "!pwd\n",
    "!ls"
   ]
  },
  {
   "cell_type": "markdown",
   "metadata": {},
   "source": [
    "### Installing Jupyter notebooks\n",
    "\n",
    "Go to the Jupyter site and follow the installation instructions:\n",
    "\n",
    "http://jupyter.org/install"
   ]
  },
  {
   "cell_type": "markdown",
   "metadata": {},
   "source": [
    "### Useful links\n",
    "\n",
    "https://www.dataquest.io/blog/jupyter-notebook-tips-tricks-shortcuts/\n",
    "\n",
    "https://www.datacamp.com/community/tutorials/tutorial-jupyter-notebook"
   ]
  }
 ],
 "metadata": {
  "kernelspec": {
   "display_name": "Python 3",
   "language": "python",
   "name": "python3"
  },
  "language_info": {
   "codemirror_mode": {
    "name": "ipython",
    "version": 3
   },
   "file_extension": ".py",
   "mimetype": "text/x-python",
   "name": "python",
   "nbconvert_exporter": "python",
   "pygments_lexer": "ipython3",
   "version": "3.6.0"
  }
 },
 "nbformat": 4,
 "nbformat_minor": 2
}
